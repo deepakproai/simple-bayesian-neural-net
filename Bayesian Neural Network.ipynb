{
 "cells": [
  {
   "cell_type": "markdown",
   "metadata": {},
   "source": [
    "# Bayesian Neural Network"
   ]
  },
  {
   "cell_type": "markdown",
   "metadata": {},
   "source": [
    "If you are using Colab make sure your runtime is set to GPU and then proceed with running the cells in this notebook.\n",
    "\n",
    "Comment the next 2 cells if you are using a local system. This is only if you are running this on Colab."
   ]
  },
  {
   "cell_type": "code",
   "execution_count": 4,
   "metadata": {},
   "outputs": [],
   "source": [
    "!git clone https://github.com/nerdimite/simple-bayesian-neural-net"
   ]
  },
  {
   "cell_type": "code",
   "execution_count": null,
   "metadata": {},
   "outputs": [],
   "source": [
    "cd simple-bayesian-neural-net"
   ]
  },
  {
   "cell_type": "markdown",
   "metadata": {},
   "source": [
    "### Imports"
   ]
  },
  {
   "cell_type": "code",
   "execution_count": 1,
   "metadata": {},
   "outputs": [],
   "source": [
    "import torch\n",
    "import torch.nn as nn\n",
    "import torch.nn.functional as F\n",
    "import torchvision\n",
    "from torchvision import datasets, transforms\n",
    "from torch.utils.data import DataLoader"
   ]
  },
  {
   "cell_type": "code",
   "execution_count": 2,
   "metadata": {},
   "outputs": [],
   "source": [
    "import numpy as np\n",
    "import matplotlib.pyplot as plt\n",
    "import os\n",
    "from PIL import Image\n",
    "from tqdm.notebook import tqdm"
   ]
  },
  {
   "cell_type": "code",
   "execution_count": 3,
   "metadata": {},
   "outputs": [],
   "source": [
    "# Importing Pyro and its modules\n",
    "import pyro\n",
    "from pyro.distributions import Normal, Categorical\n",
    "from pyro.infer import SVI, Trace_ELBO\n",
    "from pyro.optim import Adam"
   ]
  },
  {
   "cell_type": "markdown",
   "metadata": {},
   "source": [
    "## Data and Neural Net"
   ]
  },
  {
   "cell_type": "code",
   "execution_count": 9,
   "metadata": {},
   "outputs": [],
   "source": [
    "# Get the MNIST dataset\n",
    "train_data = datasets.MNIST('mnist', train=True, transform=transforms.ToTensor(), download=True)\n",
    "test_data = datasets.MNIST('mnist', train=False, transform=transforms.ToTensor())\n",
    "\n",
    "# Build the dataloaders\n",
    "train_loader = DataLoader(train_data, batch_size=128, shuffle=True)\n",
    "test_loader = DataLoader(train_data, batch_size=128, shuffle=False)"
   ]
  },
  {
   "cell_type": "code",
   "execution_count": 13,
   "metadata": {},
   "outputs": [],
   "source": [
    "device = 'cuda' if torch.cuda.is_available else 'cpu'"
   ]
  },
  {
   "cell_type": "code",
   "execution_count": 14,
   "metadata": {},
   "outputs": [],
   "source": [
    "class NeuralNet(nn.Module):\n",
    "    '''Base Neural Network for Classification'''\n",
    "    \n",
    "    def __init__(self, in_dim=784, hidden_dim=1024, out_dim=10):\n",
    "        super(NeuralNet, self).__init__()\n",
    "        \n",
    "        self.input = nn.Linear(in_dim, hidden_dim)\n",
    "        self.output = nn.Linear(hidden_dim, out_dim)\n",
    "        \n",
    "    def forward(self, x):\n",
    "        '''Returns the prediction logits'''        \n",
    "        # Pass through the layers\n",
    "        x = F.relu(self.input(x))\n",
    "        out = self.output(x)\n",
    "        \n",
    "        return out"
   ]
  },
  {
   "cell_type": "code",
   "execution_count": 15,
   "metadata": {},
   "outputs": [],
   "source": [
    "net = NeuralNet().to(device)"
   ]
  },
  {
   "cell_type": "markdown",
   "metadata": {},
   "source": [
    "## Model"
   ]
  },
  {
   "cell_type": "code",
   "execution_count": 21,
   "metadata": {},
   "outputs": [],
   "source": [
    "log_softmax = nn.LogSoftmax(dim=1)"
   ]
  },
  {
   "cell_type": "code",
   "execution_count": 22,
   "metadata": {},
   "outputs": [],
   "source": [
    "def model(x_data, y_data):\n",
    "    '''The Stochastic Model of the Neural Net'''\n",
    "    \n",
    "    # Defining the priors of the parameters\n",
    "    inp_w_prior = Normal(loc=torch.zeros_like(net.input.weight).to(device), scale=torch.ones_like(net.input.weight).to(device))\n",
    "    inp_b_prior = Normal(loc=torch.zeros_like(net.input.bias).to(device), scale=torch.ones_like(net.input.bias).to(device))\n",
    "\n",
    "    out_w_prior = Normal(loc=torch.zeros_like(net.output.weight).to(device), scale=torch.ones_like(net.output.weight).to(device))\n",
    "    out_b_prior = Normal(loc=torch.zeros_like(net.output.bias).to(device), scale=torch.ones_like(net.output.bias).to(device))\n",
    "    \n",
    "    priors = {'input.weight': inp_w_prior, 'input.bias': inp_b_prior,\n",
    "              'output.weight': out_w_prior, 'output.bias': out_b_prior}\n",
    "    \n",
    "    # Convert the model params to random variables\n",
    "    rnd_module = pyro.random_module(\"module\", net, priors)\n",
    "    # Sample a model\n",
    "    sampled_model = rnd_module()\n",
    "    \n",
    "    # Make prediction\n",
    "    y_hat = log_softmax(sampled_model(x_data))\n",
    "    \n",
    "    # Sample the observation\n",
    "    pyro.sample(\"obs\", Categorical(logits=y_hat), obs=y_data)"
   ]
  },
  {
   "cell_type": "markdown",
   "metadata": {},
   "source": [
    "## Guide"
   ]
  },
  {
   "cell_type": "code",
   "execution_count": 23,
   "metadata": {},
   "outputs": [],
   "source": [
    "softplus = nn.Softplus()"
   ]
  },
  {
   "cell_type": "code",
   "execution_count": 24,
   "metadata": {},
   "outputs": [],
   "source": [
    "def guide(x_data, y_data):\n",
    "    '''The Guide that is optimized using SVI'''\n",
    "    \n",
    "    # Input layer weight priors\n",
    "    inp_w_mu = pyro.param('inp_w_mu', torch.randn_like(net.input.weight).to(device))\n",
    "    inp_w_sigma = softplus(pyro.param('inp_w_sigma', torch.randn_like(net.input.weight).to(device)))\n",
    "    inp_w_prior = Normal(loc=inp_w_mu, scale=inp_w_sigma)\n",
    "    \n",
    "    # Input layer bias priors\n",
    "    inp_b_mu = pyro.param('inp_b_mu', torch.randn_like(net.input.bias).to(device))\n",
    "    inp_b_sigma = softplus(pyro.param('inp_b_sigma', torch.randn_like(net.input.bias).to(device)))\n",
    "    inp_b_prior = Normal(loc=inp_b_mu, scale=inp_b_sigma)\n",
    "    \n",
    "    # Output layer weight priors\n",
    "    out_w_mu = pyro.param('out_w_mu', torch.randn_like(net.output.weight).to(device))\n",
    "    out_w_sigma = softplus(pyro.param('out_w_sigma', torch.randn_like(net.output.weight).to(device)))\n",
    "    out_w_prior = Normal(loc=out_w_mu, scale=out_w_sigma)\n",
    "    \n",
    "    # Output layer bias priors\n",
    "    out_b_mu = pyro.param('out_b_mu', torch.randn_like(net.output.bias).to(device))\n",
    "    out_b_sigma = softplus(pyro.param('out_b_sigma', torch.randn_like(net.output.bias).to(device)))\n",
    "    out_b_prior = Normal(loc=out_b_mu, scale=out_b_sigma)\n",
    "    \n",
    "    # Priors\n",
    "    priors = {'input.weight': inp_w_prior, 'input.bias': inp_b_prior,\n",
    "              'output.weight': out_w_prior, 'output.bias': out_b_prior}\n",
    "    \n",
    "    # Convert the model params to random variables\n",
    "    rnd_module = pyro.random_module(\"module\", net, priors)\n",
    "    \n",
    "    return rnd_module().to(device)"
   ]
  },
  {
   "cell_type": "markdown",
   "metadata": {},
   "source": [
    "## SVI"
   ]
  },
  {
   "cell_type": "code",
   "execution_count": 25,
   "metadata": {},
   "outputs": [],
   "source": [
    "# Create a pyro optimizer\n",
    "optimizer = Adam({\"lr\": 0.001})\n",
    "# Create the SVI object with the ELBO loss\n",
    "svi = SVI(model, guide, optimizer, loss=Trace_ELBO())"
   ]
  },
  {
   "cell_type": "markdown",
   "metadata": {},
   "source": [
    "## Training"
   ]
  },
  {
   "cell_type": "code",
   "execution_count": 26,
   "metadata": {
    "scrolled": true
   },
   "outputs": [
    {
     "data": {
      "application/vnd.jupyter.widget-view+json": {
       "model_id": "d4b1add539f3429984340f1ab37063ea",
       "version_major": 2,
       "version_minor": 0
      },
      "text/plain": [
       "HBox(children=(FloatProgress(value=0.0, description='Epoch 0', max=469.0, style=ProgressStyle(description_widt…"
      ]
     },
     "metadata": {},
     "output_type": "display_data"
    },
    {
     "name": "stdout",
     "output_type": "stream",
     "text": [
      "\n"
     ]
    },
    {
     "data": {
      "application/vnd.jupyter.widget-view+json": {
       "model_id": "f868433ee63948ebb3e12a72fe8223ae",
       "version_major": 2,
       "version_minor": 0
      },
      "text/plain": [
       "HBox(children=(FloatProgress(value=0.0, description='Epoch 1', max=469.0, style=ProgressStyle(description_widt…"
      ]
     },
     "metadata": {},
     "output_type": "display_data"
    },
    {
     "data": {
      "application/vnd.jupyter.widget-view+json": {
       "model_id": "4309cfdb451c4b2897032beaf682cb17",
       "version_major": 2,
       "version_minor": 0
      },
      "text/plain": [
       "HBox(children=(FloatProgress(value=0.0, description='Epoch 2', max=469.0, style=ProgressStyle(description_widt…"
      ]
     },
     "metadata": {},
     "output_type": "display_data"
    },
    {
     "data": {
      "application/vnd.jupyter.widget-view+json": {
       "model_id": "9eff5d230cf1485999aa04fa315d2b2d",
       "version_major": 2,
       "version_minor": 0
      },
      "text/plain": [
       "HBox(children=(FloatProgress(value=0.0, description='Epoch 3', max=469.0, style=ProgressStyle(description_widt…"
      ]
     },
     "metadata": {},
     "output_type": "display_data"
    },
    {
     "data": {
      "application/vnd.jupyter.widget-view+json": {
       "model_id": "01b30e8a4b694d2e8fe339b2b44d0f44",
       "version_major": 2,
       "version_minor": 0
      },
      "text/plain": [
       "HBox(children=(FloatProgress(value=0.0, description='Epoch 4', max=469.0, style=ProgressStyle(description_widt…"
      ]
     },
     "metadata": {},
     "output_type": "display_data"
    },
    {
     "name": "stdout",
     "output_type": "stream",
     "text": [
      "\n",
      "\n"
     ]
    },
    {
     "data": {
      "application/vnd.jupyter.widget-view+json": {
       "model_id": "b291e25b2d9e47acbaaada8745726fd8",
       "version_major": 2,
       "version_minor": 0
      },
      "text/plain": [
       "HBox(children=(FloatProgress(value=0.0, description='Epoch 5', max=469.0, style=ProgressStyle(description_widt…"
      ]
     },
     "metadata": {},
     "output_type": "display_data"
    },
    {
     "data": {
      "application/vnd.jupyter.widget-view+json": {
       "model_id": "2d297d0b736a471da226acb51632e2b6",
       "version_major": 2,
       "version_minor": 0
      },
      "text/plain": [
       "HBox(children=(FloatProgress(value=0.0, description='Epoch 6', max=469.0, style=ProgressStyle(description_widt…"
      ]
     },
     "metadata": {},
     "output_type": "display_data"
    },
    {
     "data": {
      "application/vnd.jupyter.widget-view+json": {
       "model_id": "edb69f688df04f32987c178f2d5eebbc",
       "version_major": 2,
       "version_minor": 0
      },
      "text/plain": [
       "HBox(children=(FloatProgress(value=0.0, description='Epoch 7', max=469.0, style=ProgressStyle(description_widt…"
      ]
     },
     "metadata": {},
     "output_type": "display_data"
    },
    {
     "name": "stdout",
     "output_type": "stream",
     "text": [
      "\n",
      "\n"
     ]
    },
    {
     "data": {
      "application/vnd.jupyter.widget-view+json": {
       "model_id": "1cc65489425c4e3284490b5350b3cb15",
       "version_major": 2,
       "version_minor": 0
      },
      "text/plain": [
       "HBox(children=(FloatProgress(value=0.0, description='Epoch 8', max=469.0, style=ProgressStyle(description_widt…"
      ]
     },
     "metadata": {},
     "output_type": "display_data"
    },
    {
     "data": {
      "application/vnd.jupyter.widget-view+json": {
       "model_id": "2bafc25f4b1a40ad9b062c28130603fd",
       "version_major": 2,
       "version_minor": 0
      },
      "text/plain": [
       "HBox(children=(FloatProgress(value=0.0, description='Epoch 9', max=469.0, style=ProgressStyle(description_widt…"
      ]
     },
     "metadata": {},
     "output_type": "display_data"
    },
    {
     "data": {
      "application/vnd.jupyter.widget-view+json": {
       "model_id": "6bb224722ed74b56ba422d4ad2602b79",
       "version_major": 2,
       "version_minor": 0
      },
      "text/plain": [
       "HBox(children=(FloatProgress(value=0.0, description='Epoch 10', max=469.0, style=ProgressStyle(description_wid…"
      ]
     },
     "metadata": {},
     "output_type": "display_data"
    },
    {
     "name": "stdout",
     "output_type": "stream",
     "text": [
      "\n",
      "\n"
     ]
    },
    {
     "data": {
      "application/vnd.jupyter.widget-view+json": {
       "model_id": "bcac0814d83f42ab9f5fc9574ffab268",
       "version_major": 2,
       "version_minor": 0
      },
      "text/plain": [
       "HBox(children=(FloatProgress(value=0.0, description='Epoch 11', max=469.0, style=ProgressStyle(description_wid…"
      ]
     },
     "metadata": {},
     "output_type": "display_data"
    },
    {
     "data": {
      "application/vnd.jupyter.widget-view+json": {
       "model_id": "9c200da0c0a641b8bf6606fae449b635",
       "version_major": 2,
       "version_minor": 0
      },
      "text/plain": [
       "HBox(children=(FloatProgress(value=0.0, description='Epoch 12', max=469.0, style=ProgressStyle(description_wid…"
      ]
     },
     "metadata": {},
     "output_type": "display_data"
    },
    {
     "data": {
      "application/vnd.jupyter.widget-view+json": {
       "model_id": "7d31ec04e31b48d59888bef14afaa3d0",
       "version_major": 2,
       "version_minor": 0
      },
      "text/plain": [
       "HBox(children=(FloatProgress(value=0.0, description='Epoch 13', max=469.0, style=ProgressStyle(description_wid…"
      ]
     },
     "metadata": {},
     "output_type": "display_data"
    },
    {
     "name": "stdout",
     "output_type": "stream",
     "text": [
      "\n",
      "\n"
     ]
    },
    {
     "data": {
      "application/vnd.jupyter.widget-view+json": {
       "model_id": "8c00c8574f4149cb9f9c100720082c4a",
       "version_major": 2,
       "version_minor": 0
      },
      "text/plain": [
       "HBox(children=(FloatProgress(value=0.0, description='Epoch 14', max=469.0, style=ProgressStyle(description_wid…"
      ]
     },
     "metadata": {},
     "output_type": "display_data"
    },
    {
     "data": {
      "application/vnd.jupyter.widget-view+json": {
       "model_id": "a28ccfa1d28a4f509cfde25bb0d139e4",
       "version_major": 2,
       "version_minor": 0
      },
      "text/plain": [
       "HBox(children=(FloatProgress(value=0.0, description='Epoch 15', max=469.0, style=ProgressStyle(description_wid…"
      ]
     },
     "metadata": {},
     "output_type": "display_data"
    },
    {
     "data": {
      "application/vnd.jupyter.widget-view+json": {
       "model_id": "1ea3c9cb8f574e46899a680d3a26430c",
       "version_major": 2,
       "version_minor": 0
      },
      "text/plain": [
       "HBox(children=(FloatProgress(value=0.0, description='Epoch 16', max=469.0, style=ProgressStyle(description_wid…"
      ]
     },
     "metadata": {},
     "output_type": "display_data"
    },
    {
     "name": "stdout",
     "output_type": "stream",
     "text": [
      "\n",
      "\n"
     ]
    },
    {
     "data": {
      "application/vnd.jupyter.widget-view+json": {
       "model_id": "6966704b1a1b4a0cb8714b7d9f3e4634",
       "version_major": 2,
       "version_minor": 0
      },
      "text/plain": [
       "HBox(children=(FloatProgress(value=0.0, description='Epoch 17', max=469.0, style=ProgressStyle(description_wid…"
      ]
     },
     "metadata": {},
     "output_type": "display_data"
    },
    {
     "data": {
      "application/vnd.jupyter.widget-view+json": {
       "model_id": "5bee3cbb3fd545edb8e03b0756f0ab0d",
       "version_major": 2,
       "version_minor": 0
      },
      "text/plain": [
       "HBox(children=(FloatProgress(value=0.0, description='Epoch 18', max=469.0, style=ProgressStyle(description_wid…"
      ]
     },
     "metadata": {},
     "output_type": "display_data"
    },
    {
     "data": {
      "application/vnd.jupyter.widget-view+json": {
       "model_id": "7c26e08365b54d8c854c6852c17c8014",
       "version_major": 2,
       "version_minor": 0
      },
      "text/plain": [
       "HBox(children=(FloatProgress(value=0.0, description='Epoch 19', max=469.0, style=ProgressStyle(description_wid…"
      ]
     },
     "metadata": {},
     "output_type": "display_data"
    },
    {
     "name": "stdout",
     "output_type": "stream",
     "text": [
      "\n",
      "\n",
      "Wall time: 3min 46s\n"
     ]
    }
   ],
   "source": [
    "%%time\n",
    "num_epochs = 20\n",
    "\n",
    "for e in range(num_epochs):\n",
    "    losses = []\n",
    "    pbar = tqdm(desc=f\"Epoch {e}\", total=len(train_loader))\n",
    "    \n",
    "    for idx, (x_data, y_data) in enumerate(train_loader):\n",
    "        x = x_data.view(-1,28*28).to(device)\n",
    "        y = y_data.to(device)\n",
    "        \n",
    "        # Take an SVI step and get the loss\n",
    "        loss = svi.step(x, y)\n",
    "        losses.append(loss)\n",
    "        \n",
    "        \n",
    "        pbar.update(1)\n",
    "        pbar.set_postfix({'Loss': loss})\n",
    "    \n",
    "    pbar.set_postfix({'Mean Loss': sum(losses) / len(losses)})"
   ]
  },
  {
   "cell_type": "code",
   "execution_count": 28,
   "metadata": {},
   "outputs": [],
   "source": [
    "# Saving the guide parameters\n",
    "pyro.get_param_store().save('mnist.params')"
   ]
  },
  {
   "cell_type": "markdown",
   "metadata": {},
   "source": [
    "## Prediction"
   ]
  },
  {
   "cell_type": "code",
   "execution_count": 29,
   "metadata": {},
   "outputs": [],
   "source": [
    "def load_images(folder):\n",
    "    '''Reads images from a folder and Returns a 4D tensor of images'''\n",
    "    totensor = transforms.ToTensor()\n",
    "    img_names = os.listdir(folder)\n",
    "    img_names.sort(key=lambda x: int(x.split('.')[0]))\n",
    "\n",
    "    images = []\n",
    "    for img_name in img_names:\n",
    "        image = Image.open(os.path.join(folder, img_name))\n",
    "        image_tensor = totensor(image)\n",
    "        images.append(image_tensor)\n",
    "    \n",
    "    return torch.stack(images)"
   ]
  },
  {
   "cell_type": "code",
   "execution_count": 30,
   "metadata": {},
   "outputs": [
    {
     "data": {
      "text/plain": [
       "torch.Size([15, 1, 28, 28])"
      ]
     },
     "execution_count": 30,
     "metadata": {},
     "output_type": "execute_result"
    }
   ],
   "source": [
    "# Load some test images\n",
    "test_images = load_images('test_images')\n",
    "test_images.shape"
   ]
  },
  {
   "cell_type": "code",
   "execution_count": 32,
   "metadata": {},
   "outputs": [
    {
     "data": {
      "text/plain": [
       "<matplotlib.image.AxesImage at 0x1ae5b4c0a08>"
      ]
     },
     "execution_count": 32,
     "metadata": {},
     "output_type": "execute_result"
    },
    {
     "data": {
      "image/png": "[encoded data removed]",
      "text/plain": [
       "<Figure size 432x432 with 1 Axes>"
      ]
     },
     "metadata": {
      "needs_background": "light"
     },
     "output_type": "display_data"
    }
   ],
   "source": [
    "# Display the test images\n",
    "grid = torchvision.utils.make_grid(test_images, nrow=5)\n",
    "plt.figure(figsize=(6,6))\n",
    "plt.imshow(grid.permute(1, 2, 0))"
   ]
  },
  {
   "cell_type": "code",
   "execution_count": 33,
   "metadata": {},
   "outputs": [],
   "source": [
    "def force_predict(x, num_samples=100):\n",
    "    '''Make Forced Predictions while not accounting for uncertainity'''\n",
    "    \n",
    "    # Sample and Make prediction\n",
    "    sampled_models = [guide(None, None) for _ in range(num_samples)]\n",
    "    y_hats = [model(x) for model in sampled_models]\n",
    "    probs = F.softmax(torch.stack(y_hats), dim=2)\n",
    "    \n",
    "    # Calculate the mean prob\n",
    "    mean_probs = torch.mean(probs, 0).detach().cpu().numpy()\n",
    "    \n",
    "    # Get class index and its probability\n",
    "    class_idx = mean_probs.argmax(1)\n",
    "    class_probs = mean_probs.max(1)\n",
    "    \n",
    "    return class_idx, class_probs"
   ]
  },
  {
   "cell_type": "code",
   "execution_count": 34,
   "metadata": {},
   "outputs": [
    {
     "data": {
      "text/plain": [
       "array([[5.        , 0.51213545],\n",
       "       [0.        , 0.98999995],\n",
       "       [4.        , 0.67956394],\n",
       "       [1.        , 0.86990219],\n",
       "       [9.        , 0.78110623],\n",
       "       [2.        , 0.27014023],\n",
       "       [2.        , 0.38802999],\n",
       "       [5.        , 0.19964275],\n",
       "       [2.        , 0.22082146],\n",
       "       [5.        , 0.22641197],\n",
       "       [2.        , 0.83138043],\n",
       "       [2.        , 0.34996906],\n",
       "       [8.        , 0.19806057],\n",
       "       [2.        , 0.33631378],\n",
       "       [2.        , 0.22069052]])"
      ]
     },
     "execution_count": 34,
     "metadata": {},
     "output_type": "execute_result"
    }
   ],
   "source": [
    "# Making forced predictions\n",
    "fpred, fprobs = force_predict(test_images.view(-1, 28*28).cuda())\n",
    "np.vstack((fpred, fprobs)).T"
   ]
  },
  {
   "cell_type": "code",
   "execution_count": 37,
   "metadata": {},
   "outputs": [],
   "source": [
    "def predict(x, num_samples=100):\n",
    "    '''Returns the predictions while allowing the model to refuse to predict'''\n",
    "    \n",
    "    # Get probabilities\n",
    "    sampled_models = [guide(None, None) for _ in range(num_samples)]\n",
    "    y_hats = [model(x) for model in sampled_models]\n",
    "    probs = F.softmax(torch.stack(y_hats), dim=2).detach().cpu().numpy()\n",
    "    \n",
    "    # Handling Uncertainity\n",
    "    predictions = []\n",
    "    for i in range(x.shape[0]):\n",
    "        # Calculate median\n",
    "        median = np.median(probs[:, i], 0)\n",
    "        \n",
    "        class_idx = median.argmax()\n",
    "        class_prob = median.max()\n",
    "        \n",
    "        if class_prob > 0.2:\n",
    "            predictions.append((class_idx, class_prob))\n",
    "        else:\n",
    "            predictions.append((-1, 0))\n",
    "    \n",
    "    return np.array(predictions)"
   ]
  },
  {
   "cell_type": "code",
   "execution_count": 38,
   "metadata": {},
   "outputs": [
    {
     "data": {
      "text/plain": [
       "array([[ 5.,  1.],\n",
       "       [ 0.,  1.],\n",
       "       [ 4.,  1.],\n",
       "       [ 1.,  1.],\n",
       "       [ 9.,  1.],\n",
       "       [-1.,  0.],\n",
       "       [-1.,  0.],\n",
       "       [-1.,  0.],\n",
       "       [-1.,  0.],\n",
       "       [-1.,  0.],\n",
       "       [ 2.,  1.],\n",
       "       [-1.,  0.],\n",
       "       [-1.,  0.],\n",
       "       [-1.,  0.],\n",
       "       [-1.,  0.]])"
      ]
     },
     "execution_count": 38,
     "metadata": {},
     "output_type": "execute_result"
    }
   ],
   "source": [
    "# Making predictions while accounting for uncertainity\n",
    "uc_preds = predict(test_images.view(-1, 28*28).cuda())\n",
    "uc_preds"
   ]
  },
  {
   "cell_type": "markdown",
   "metadata": {},
   "source": [
    "### Evaluation"
   ]
  },
  {
   "cell_type": "code",
   "execution_count": 39,
   "metadata": {},
   "outputs": [],
   "source": [
    "def forced_evaluate(test_loader):\n",
    "    '''General Evaluation on the Test Set (forced prediction)'''\n",
    "    num_correct = []\n",
    "    \n",
    "    for idx, (images, labels) in tqdm(enumerate(test_loader)):\n",
    "        # Get inputs\n",
    "        images, labels = images.view(-1,28*28).to(device), labels.numpy()\n",
    "        # Make prediction\n",
    "        preds, _ = force_predict(images)\n",
    "        # Check num correct\n",
    "        num_correct.extend((preds == labels).tolist())\n",
    "    \n",
    "    acc = np.array(num_correct).mean()\n",
    "    print('Accuracy:', acc)"
   ]
  },
  {
   "cell_type": "code",
   "execution_count": 40,
   "metadata": {},
   "outputs": [
    {
     "data": {
      "application/vnd.jupyter.widget-view+json": {
       "model_id": "c9b7bf4cc7584d54929f8efd123cc5d7",
       "version_major": 2,
       "version_minor": 0
      },
      "text/plain": [
       "HBox(children=(FloatProgress(value=1.0, bar_style='info', layout=Layout(width='20px'), max=1.0), HTML(value=''…"
      ]
     },
     "metadata": {},
     "output_type": "display_data"
    },
    {
     "name": "stdout",
     "output_type": "stream",
     "text": [
      "\n",
      "\n",
      "Accuracy: 0.9083166666666667\n"
     ]
    }
   ],
   "source": [
    "# Evaluate on the test set\n",
    "forced_evaluate(test_loader)"
   ]
  },
  {
   "cell_type": "code",
   "execution_count": 41,
   "metadata": {},
   "outputs": [],
   "source": [
    "def evaluate(test_loader):\n",
    "    '''Evaluation on the Test Set while allowing the model to refuse to predict'''\n",
    "    num_correct = []\n",
    "    num_skipped = []\n",
    "    \n",
    "    for idx, (images, labels) in tqdm(enumerate(test_loader)):\n",
    "        # Get inputs\n",
    "        images, labels = images.view(-1,28*28).to(device), labels.numpy()\n",
    "        \n",
    "        # Make prediction\n",
    "        preds = predict(images)\n",
    "        class_idx = preds[:, 0]\n",
    "        \n",
    "        # Check num correct\n",
    "        for p, l in zip(class_idx, labels):\n",
    "            if p == -1:\n",
    "                num_skipped.append(1)\n",
    "            else:\n",
    "                num_correct.append((p == l))\n",
    "    \n",
    "    acc = np.array(num_correct).mean()\n",
    "    \n",
    "    print('Certain Accuracy:', round(acc * 100, 3))\n",
    "    print('Num Skipped:', len(num_skipped))"
   ]
  },
  {
   "cell_type": "code",
   "execution_count": 42,
   "metadata": {},
   "outputs": [
    {
     "data": {
      "application/vnd.jupyter.widget-view+json": {
       "model_id": "976a66f6e7534d3e88d02ada32eff979",
       "version_major": 2,
       "version_minor": 0
      },
      "text/plain": [
       "HBox(children=(FloatProgress(value=1.0, bar_style='info', layout=Layout(width='20px'), max=1.0), HTML(value=''…"
      ]
     },
     "metadata": {},
     "output_type": "display_data"
    },
    {
     "name": "stdout",
     "output_type": "stream",
     "text": [
      "\n",
      "Certain Accuracy: 96.375\n",
      "Num Skipped: 8171\n"
     ]
    }
   ],
   "source": [
    "# Evaluate but with an option to skip uncertain predictions\n",
    "evaluate(test_loader)"
   ]
  },
  {
   "cell_type": "code",
   "execution_count": null,
   "metadata": {},
   "outputs": [],
   "source": []
  }
 ],
 "metadata": {
  "kernelspec": {
   "display_name": "Python 3",
   "language": "python",
   "name": "python3"
  },
  "language_info": {
   "codemirror_mode": {
    "name": "ipython",
    "version": 3
   },
   "file_extension": ".py",
   "mimetype": "text/x-python",
   "name": "python",
   "nbconvert_exporter": "python",
   "pygments_lexer": "ipython3",
   "version": "3.7.7"
  }
 },
 "nbformat": 4,
 "nbformat_minor": 4
}
